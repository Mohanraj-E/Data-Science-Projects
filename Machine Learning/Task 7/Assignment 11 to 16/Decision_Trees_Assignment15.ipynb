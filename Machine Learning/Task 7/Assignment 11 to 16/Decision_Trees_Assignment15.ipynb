{
 "cells": [
  {
   "cell_type": "code",
   "execution_count": null,
   "metadata": {
    "id": "eqp7Q6rWnX20"
   },
   "outputs": [],
   "source": [
    "#Social_Network_Ads.csv"
   ]
  },
  {
   "cell_type": "markdown",
   "metadata": {
    "id": "1jSlqZcZnmrD"
   },
   "source": [
    "**Importing the libraries**"
   ]
  },
  {
   "cell_type": "code",
   "execution_count": 2,
   "metadata": {
    "id": "ACJTKMfInp-E"
   },
   "outputs": [],
   "source": [
    "import numpy as np\n",
    "import matplotlib.pyplot as plt\n",
    "import pandas as pd"
   ]
  },
  {
   "cell_type": "markdown",
   "metadata": {
    "id": "fRZkaj-dnxIj"
   },
   "source": [
    "**Importing the dataset**"
   ]
  },
  {
   "cell_type": "code",
   "execution_count": 33,
   "metadata": {
    "id": "SfTR4mVDnqBV"
   },
   "outputs": [
    {
     "data": {
      "text/html": [
       "<div>\n",
       "<style scoped>\n",
       "    .dataframe tbody tr th:only-of-type {\n",
       "        vertical-align: middle;\n",
       "    }\n",
       "\n",
       "    .dataframe tbody tr th {\n",
       "        vertical-align: top;\n",
       "    }\n",
       "\n",
       "    .dataframe thead th {\n",
       "        text-align: right;\n",
       "    }\n",
       "</style>\n",
       "<table border=\"1\" class=\"dataframe\">\n",
       "  <thead>\n",
       "    <tr style=\"text-align: right;\">\n",
       "      <th></th>\n",
       "      <th>User ID</th>\n",
       "      <th>Gender</th>\n",
       "      <th>Age</th>\n",
       "      <th>EstimatedSalary</th>\n",
       "      <th>Purchased</th>\n",
       "    </tr>\n",
       "  </thead>\n",
       "  <tbody>\n",
       "    <tr>\n",
       "      <th>0</th>\n",
       "      <td>15624510</td>\n",
       "      <td>Male</td>\n",
       "      <td>19</td>\n",
       "      <td>19000</td>\n",
       "      <td>0</td>\n",
       "    </tr>\n",
       "    <tr>\n",
       "      <th>1</th>\n",
       "      <td>15810944</td>\n",
       "      <td>Male</td>\n",
       "      <td>35</td>\n",
       "      <td>20000</td>\n",
       "      <td>0</td>\n",
       "    </tr>\n",
       "    <tr>\n",
       "      <th>2</th>\n",
       "      <td>15668575</td>\n",
       "      <td>Female</td>\n",
       "      <td>26</td>\n",
       "      <td>43000</td>\n",
       "      <td>0</td>\n",
       "    </tr>\n",
       "    <tr>\n",
       "      <th>3</th>\n",
       "      <td>15603246</td>\n",
       "      <td>Female</td>\n",
       "      <td>27</td>\n",
       "      <td>57000</td>\n",
       "      <td>0</td>\n",
       "    </tr>\n",
       "    <tr>\n",
       "      <th>4</th>\n",
       "      <td>15804002</td>\n",
       "      <td>Male</td>\n",
       "      <td>19</td>\n",
       "      <td>76000</td>\n",
       "      <td>0</td>\n",
       "    </tr>\n",
       "  </tbody>\n",
       "</table>\n",
       "</div>"
      ],
      "text/plain": [
       "    User ID  Gender  Age  EstimatedSalary  Purchased\n",
       "0  15624510    Male   19            19000          0\n",
       "1  15810944    Male   35            20000          0\n",
       "2  15668575  Female   26            43000          0\n",
       "3  15603246  Female   27            57000          0\n",
       "4  15804002    Male   19            76000          0"
      ]
     },
     "execution_count": 33,
     "metadata": {},
     "output_type": "execute_result"
    }
   ],
   "source": [
    "SN_df = pd.read_csv('Social_Network_Ads.csv')\n",
    "\n",
    "X = SN_df.iloc[:, [2, 3]].values\n",
    "y = SN_df.iloc[:, 4].values\n",
    "\n",
    "SN_df.head()"
   ]
  },
  {
   "cell_type": "markdown",
   "metadata": {
    "id": "9Thl3lvkn9Kr"
   },
   "source": [
    "**Splitting the dataset into the Training set and Test set**"
   ]
  },
  {
   "cell_type": "code",
   "execution_count": 34,
   "metadata": {
    "id": "sp359H4XnqD3"
   },
   "outputs": [],
   "source": [
    "from sklearn.model_selection import train_test_split\n",
    "X_train, X_test, y_train, y_test = train_test_split(X, y, test_size = 0.25, random_state = 0)"
   ]
  },
  {
   "cell_type": "markdown",
   "metadata": {
    "id": "XNNxUncRoG6K"
   },
   "source": [
    "**Feature Scaling**"
   ]
  },
  {
   "cell_type": "code",
   "execution_count": 35,
   "metadata": {
    "id": "loYjT47TnqIG"
   },
   "outputs": [
    {
     "data": {
      "text/plain": [
       "(array([[ 0.58164944, -0.88670699],\n",
       "        [-0.60673761,  1.46173768],\n",
       "        [-0.01254409, -0.5677824 ],\n",
       "        [-0.60673761,  1.89663484],\n",
       "        [ 1.37390747, -1.40858358],\n",
       "        [ 1.47293972,  0.99784738],\n",
       "        [ 0.08648817, -0.79972756],\n",
       "        [-0.01254409, -0.24885782],\n",
       "        [-0.21060859, -0.5677824 ],\n",
       "        [-0.21060859, -0.19087153],\n",
       "        [-0.30964085, -1.29261101],\n",
       "        [-0.30964085, -0.5677824 ],\n",
       "        [ 0.38358493,  0.09905991],\n",
       "        [ 0.8787462 , -0.59677555],\n",
       "        [ 2.06713324, -1.17663843],\n",
       "        [ 1.07681071, -0.13288524],\n",
       "        [ 0.68068169,  1.78066227],\n",
       "        [-0.70576986,  0.56295021],\n",
       "        [ 0.77971394,  0.35999821],\n",
       "        [ 0.8787462 , -0.53878926],\n",
       "        [-1.20093113, -1.58254245],\n",
       "        [ 2.1661655 ,  0.93986109],\n",
       "        [-0.01254409,  1.22979253],\n",
       "        [ 0.18552042,  1.08482681],\n",
       "        [ 0.38358493, -0.48080297],\n",
       "        [-0.30964085, -0.30684411],\n",
       "        [ 0.97777845, -0.8287207 ],\n",
       "        [ 0.97777845,  1.8676417 ],\n",
       "        [-0.01254409,  1.25878567],\n",
       "        [-0.90383437,  2.27354572],\n",
       "        [-1.20093113, -1.58254245],\n",
       "        [ 2.1661655 , -0.79972756],\n",
       "        [-1.39899564, -1.46656987],\n",
       "        [ 0.38358493,  2.30253886],\n",
       "        [ 0.77971394,  0.76590222],\n",
       "        [-1.00286662, -0.30684411],\n",
       "        [ 0.08648817,  0.76590222],\n",
       "        [-1.00286662,  0.56295021],\n",
       "        [ 0.28455268,  0.07006676],\n",
       "        [ 0.68068169, -1.26361786],\n",
       "        [-0.50770535, -0.01691267],\n",
       "        [-1.79512465,  0.35999821],\n",
       "        [-0.70576986,  0.12805305],\n",
       "        [ 0.38358493,  0.30201192],\n",
       "        [-0.30964085,  0.07006676],\n",
       "        [-0.50770535,  2.30253886],\n",
       "        [ 0.18552042,  0.04107362],\n",
       "        [ 1.27487521,  2.21555943],\n",
       "        [ 0.77971394,  0.27301877],\n",
       "        [-0.30964085,  0.1570462 ],\n",
       "        [-0.01254409, -0.53878926],\n",
       "        [-0.21060859,  0.1570462 ],\n",
       "        [-0.11157634,  0.24402563],\n",
       "        [-0.01254409, -0.24885782],\n",
       "        [ 2.1661655 ,  1.11381995],\n",
       "        [-1.79512465,  0.35999821],\n",
       "        [ 1.86906873,  0.12805305],\n",
       "        [ 0.38358493, -0.13288524],\n",
       "        [-1.20093113,  0.30201192],\n",
       "        [ 0.77971394,  1.37475825],\n",
       "        [-0.30964085, -0.24885782],\n",
       "        [-1.6960924 , -0.04590581],\n",
       "        [-1.00286662, -0.74174127],\n",
       "        [ 0.28455268,  0.50496393],\n",
       "        [-0.11157634, -1.06066585],\n",
       "        [-1.10189888,  0.59194336],\n",
       "        [ 0.08648817, -0.79972756],\n",
       "        [-1.00286662,  1.54871711],\n",
       "        [-0.70576986,  1.40375139],\n",
       "        [-1.29996338,  0.50496393],\n",
       "        [-0.30964085,  0.04107362],\n",
       "        [-0.11157634,  0.01208048],\n",
       "        [-0.30964085, -0.88670699],\n",
       "        [ 0.8787462 , -1.3505973 ],\n",
       "        [-0.30964085,  2.24455257],\n",
       "        [ 0.97777845,  1.98361427],\n",
       "        [-1.20093113,  0.47597078],\n",
       "        [-1.29996338,  0.27301877],\n",
       "        [ 1.37390747,  1.98361427],\n",
       "        [ 1.27487521, -1.3505973 ],\n",
       "        [-0.30964085, -0.27785096],\n",
       "        [-0.50770535,  1.25878567],\n",
       "        [-0.80480212,  1.08482681],\n",
       "        [ 0.97777845, -1.06066585],\n",
       "        [ 0.28455268,  0.30201192],\n",
       "        [ 0.97777845,  0.76590222],\n",
       "        [-0.70576986, -1.49556302],\n",
       "        [-0.70576986,  0.04107362],\n",
       "        [ 0.48261718,  1.72267598],\n",
       "        [ 2.06713324,  0.18603934],\n",
       "        [-1.99318916, -0.74174127],\n",
       "        [-0.21060859,  1.40375139],\n",
       "        [ 0.38358493,  0.59194336],\n",
       "        [ 0.8787462 , -1.14764529],\n",
       "        [-1.20093113, -0.77073441],\n",
       "        [ 0.18552042,  0.24402563],\n",
       "        [ 0.77971394, -0.30684411],\n",
       "        [ 2.06713324, -0.79972756],\n",
       "        [ 0.77971394,  0.12805305],\n",
       "        [-0.30964085,  0.6209365 ],\n",
       "        [-1.00286662, -0.30684411],\n",
       "        [ 0.18552042, -0.3648304 ],\n",
       "        [ 2.06713324,  2.12857999],\n",
       "        [ 1.86906873, -1.26361786],\n",
       "        [ 1.37390747, -0.91570013],\n",
       "        [ 0.8787462 ,  1.25878567],\n",
       "        [ 1.47293972,  2.12857999],\n",
       "        [-0.30964085, -1.23462472],\n",
       "        [ 1.96810099,  0.91086794],\n",
       "        [ 0.68068169, -0.71274813],\n",
       "        [-1.49802789,  0.35999821],\n",
       "        [ 0.77971394, -1.3505973 ],\n",
       "        [ 0.38358493, -0.13288524],\n",
       "        [-1.00286662,  0.41798449],\n",
       "        [-0.01254409, -0.30684411],\n",
       "        [-1.20093113,  0.41798449],\n",
       "        [-0.90383437, -1.20563157],\n",
       "        [-0.11157634,  0.04107362],\n",
       "        [-1.59706014, -0.42281668],\n",
       "        [ 0.97777845, -1.00267957],\n",
       "        [ 1.07681071, -1.20563157],\n",
       "        [-0.01254409, -0.13288524],\n",
       "        [-1.10189888, -1.52455616],\n",
       "        [ 0.77971394, -1.20563157],\n",
       "        [ 0.97777845,  2.07059371],\n",
       "        [-1.20093113, -1.52455616],\n",
       "        [-0.30964085,  0.79489537],\n",
       "        [ 0.08648817, -0.30684411],\n",
       "        [-1.39899564, -1.23462472],\n",
       "        [-0.60673761, -1.49556302],\n",
       "        [ 0.77971394,  0.53395707],\n",
       "        [-0.30964085, -0.33583725],\n",
       "        [ 1.77003648, -0.27785096],\n",
       "        [ 0.8787462 , -1.03167271],\n",
       "        [ 0.18552042,  0.07006676],\n",
       "        [-0.60673761,  0.8818748 ],\n",
       "        [-1.89415691, -1.40858358],\n",
       "        [-1.29996338,  0.59194336],\n",
       "        [-0.30964085,  0.53395707],\n",
       "        [-1.00286662, -1.089659  ],\n",
       "        [ 1.17584296, -1.43757673],\n",
       "        [ 0.18552042, -0.30684411],\n",
       "        [ 1.17584296, -0.74174127],\n",
       "        [-0.30964085,  0.07006676],\n",
       "        [ 0.18552042,  2.09958685],\n",
       "        [ 0.77971394, -1.089659  ],\n",
       "        [ 0.08648817,  0.04107362],\n",
       "        [-1.79512465,  0.12805305],\n",
       "        [-0.90383437,  0.1570462 ],\n",
       "        [-0.70576986,  0.18603934],\n",
       "        [ 0.8787462 , -1.29261101],\n",
       "        [ 0.18552042, -0.24885782],\n",
       "        [-0.4086731 ,  1.22979253],\n",
       "        [-0.01254409,  0.30201192],\n",
       "        [ 0.38358493,  0.1570462 ],\n",
       "        [ 0.8787462 , -0.65476184],\n",
       "        [ 0.08648817,  0.1570462 ],\n",
       "        [-1.89415691, -1.29261101],\n",
       "        [-0.11157634,  0.30201192],\n",
       "        [-0.21060859, -0.27785096],\n",
       "        [ 0.28455268, -0.50979612],\n",
       "        [-0.21060859,  1.6067034 ],\n",
       "        [ 0.97777845, -1.17663843],\n",
       "        [-0.21060859,  1.63569655],\n",
       "        [ 1.27487521,  1.8676417 ],\n",
       "        [-1.10189888, -0.3648304 ],\n",
       "        [-0.01254409,  0.04107362],\n",
       "        [ 0.08648817, -0.24885782],\n",
       "        [-1.59706014, -1.23462472],\n",
       "        [-0.50770535, -0.27785096],\n",
       "        [ 0.97777845,  0.12805305],\n",
       "        [ 1.96810099, -1.3505973 ],\n",
       "        [ 1.47293972,  0.07006676],\n",
       "        [-0.60673761,  1.37475825],\n",
       "        [ 1.57197197,  0.01208048],\n",
       "        [-0.80480212,  0.30201192],\n",
       "        [ 1.96810099,  0.73690908],\n",
       "        [-1.20093113, -0.50979612],\n",
       "        [ 0.68068169,  0.27301877],\n",
       "        [-1.39899564, -0.42281668],\n",
       "        [ 0.18552042,  0.1570462 ],\n",
       "        [-0.50770535, -1.20563157],\n",
       "        [ 0.58164944,  2.01260742],\n",
       "        [-1.59706014, -1.49556302],\n",
       "        [-0.50770535, -0.53878926],\n",
       "        [ 0.48261718,  1.83864855],\n",
       "        [-1.39899564, -1.089659  ],\n",
       "        [ 0.77971394, -1.37959044],\n",
       "        [-0.30964085, -0.42281668],\n",
       "        [ 1.57197197,  0.99784738],\n",
       "        [ 0.97777845,  1.43274454],\n",
       "        [-0.30964085, -0.48080297],\n",
       "        [-0.11157634,  2.15757314],\n",
       "        [-1.49802789, -0.1038921 ],\n",
       "        [-0.11157634,  1.95462113],\n",
       "        [-0.70576986, -0.33583725],\n",
       "        [-0.50770535, -0.8287207 ],\n",
       "        [ 0.68068169, -1.37959044],\n",
       "        [-0.80480212, -1.58254245],\n",
       "        [-1.89415691, -1.46656987],\n",
       "        [ 1.07681071,  0.12805305],\n",
       "        [ 0.08648817,  1.51972397],\n",
       "        [-0.30964085,  0.09905991],\n",
       "        [ 0.08648817,  0.04107362],\n",
       "        [-1.39899564, -1.3505973 ],\n",
       "        [ 0.28455268,  0.07006676],\n",
       "        [-0.90383437,  0.38899135],\n",
       "        [ 1.57197197, -1.26361786],\n",
       "        [-0.30964085, -0.74174127],\n",
       "        [-0.11157634,  0.1570462 ],\n",
       "        [-0.90383437, -0.65476184],\n",
       "        [-0.70576986, -0.04590581],\n",
       "        [ 0.38358493, -0.45180983],\n",
       "        [-0.80480212,  1.89663484],\n",
       "        [ 1.37390747,  1.28777882],\n",
       "        [ 1.17584296, -0.97368642],\n",
       "        [ 1.77003648,  1.83864855],\n",
       "        [-0.90383437, -0.24885782],\n",
       "        [-0.80480212,  0.56295021],\n",
       "        [-1.20093113, -1.5535493 ],\n",
       "        [-0.50770535, -1.11865214],\n",
       "        [ 0.28455268,  0.07006676],\n",
       "        [-0.21060859, -1.06066585],\n",
       "        [ 1.67100423,  1.6067034 ],\n",
       "        [ 0.97777845,  1.78066227],\n",
       "        [ 0.28455268,  0.04107362],\n",
       "        [-0.80480212, -0.21986468],\n",
       "        [-0.11157634,  0.07006676],\n",
       "        [ 0.28455268, -0.19087153],\n",
       "        [ 1.96810099, -0.65476184],\n",
       "        [-0.80480212,  1.3457651 ],\n",
       "        [-1.79512465, -0.59677555],\n",
       "        [-0.11157634,  0.12805305],\n",
       "        [ 0.28455268, -0.30684411],\n",
       "        [ 1.07681071,  0.56295021],\n",
       "        [-1.00286662,  0.27301877],\n",
       "        [ 1.47293972,  0.35999821],\n",
       "        [ 0.18552042, -0.3648304 ],\n",
       "        [ 2.1661655 , -1.03167271],\n",
       "        [-0.30964085,  1.11381995],\n",
       "        [-1.6960924 ,  0.07006676],\n",
       "        [-0.01254409,  0.04107362],\n",
       "        [ 0.08648817,  1.05583366],\n",
       "        [-0.11157634, -0.3648304 ],\n",
       "        [-1.20093113,  0.07006676],\n",
       "        [-0.30964085, -1.3505973 ],\n",
       "        [ 1.57197197,  1.11381995],\n",
       "        [-0.80480212, -1.52455616],\n",
       "        [ 0.08648817,  1.8676417 ],\n",
       "        [-0.90383437, -0.77073441],\n",
       "        [-0.50770535, -0.77073441],\n",
       "        [-0.30964085, -0.91570013],\n",
       "        [ 0.28455268, -0.71274813],\n",
       "        [ 0.28455268,  0.07006676],\n",
       "        [ 0.08648817,  1.8676417 ],\n",
       "        [-1.10189888,  1.95462113],\n",
       "        [-1.6960924 , -1.5535493 ],\n",
       "        [-1.20093113, -1.089659  ],\n",
       "        [-0.70576986, -0.1038921 ],\n",
       "        [ 0.08648817,  0.09905991],\n",
       "        [ 0.28455268,  0.27301877],\n",
       "        [ 0.8787462 , -0.5677824 ],\n",
       "        [ 0.28455268, -1.14764529],\n",
       "        [-0.11157634,  0.67892279],\n",
       "        [ 2.1661655 , -0.68375498],\n",
       "        [-1.29996338, -1.37959044],\n",
       "        [-1.00286662, -0.94469328],\n",
       "        [-0.01254409, -0.42281668],\n",
       "        [-0.21060859, -0.45180983],\n",
       "        [-1.79512465, -0.97368642],\n",
       "        [ 1.77003648,  0.99784738],\n",
       "        [ 0.18552042, -0.3648304 ],\n",
       "        [ 0.38358493,  1.11381995],\n",
       "        [-1.79512465, -1.3505973 ],\n",
       "        [ 0.18552042, -0.13288524],\n",
       "        [ 0.8787462 , -1.43757673],\n",
       "        [-1.99318916,  0.47597078],\n",
       "        [-0.30964085,  0.27301877],\n",
       "        [ 1.86906873, -1.06066585],\n",
       "        [-0.4086731 ,  0.07006676],\n",
       "        [ 1.07681071, -0.88670699],\n",
       "        [-1.10189888, -1.11865214],\n",
       "        [-1.89415691,  0.01208048],\n",
       "        [ 0.08648817,  0.27301877],\n",
       "        [-1.20093113,  0.33100506],\n",
       "        [-1.29996338,  0.30201192],\n",
       "        [-1.00286662,  0.44697764],\n",
       "        [ 1.67100423, -0.88670699],\n",
       "        [ 1.17584296,  0.53395707],\n",
       "        [ 1.07681071,  0.53395707],\n",
       "        [ 1.37390747,  2.331532  ],\n",
       "        [-0.30964085, -0.13288524],\n",
       "        [ 0.38358493, -0.45180983],\n",
       "        [-0.4086731 , -0.77073441],\n",
       "        [-0.11157634, -0.50979612],\n",
       "        [ 0.97777845, -1.14764529],\n",
       "        [-0.90383437, -0.77073441],\n",
       "        [-0.21060859, -0.50979612],\n",
       "        [-1.10189888, -0.45180983],\n",
       "        [-1.20093113,  1.40375139]]),\n",
       " array([[-0.80480212,  0.50496393],\n",
       "        [-0.01254409, -0.5677824 ],\n",
       "        [-0.30964085,  0.1570462 ],\n",
       "        [-0.80480212,  0.27301877],\n",
       "        [-0.30964085, -0.5677824 ],\n",
       "        [-1.10189888, -1.43757673],\n",
       "        [-0.70576986, -1.58254245],\n",
       "        [-0.21060859,  2.15757314],\n",
       "        [-1.99318916, -0.04590581],\n",
       "        [ 0.8787462 , -0.77073441],\n",
       "        [-0.80480212, -0.59677555],\n",
       "        [-1.00286662, -0.42281668],\n",
       "        [-0.11157634, -0.42281668],\n",
       "        [ 0.08648817,  0.21503249],\n",
       "        [-1.79512465,  0.47597078],\n",
       "        [-0.60673761,  1.37475825],\n",
       "        [-0.11157634,  0.21503249],\n",
       "        [-1.89415691,  0.44697764],\n",
       "        [ 1.67100423,  1.75166912],\n",
       "        [-0.30964085, -1.37959044],\n",
       "        [-0.30964085, -0.65476184],\n",
       "        [ 0.8787462 ,  2.15757314],\n",
       "        [ 0.28455268, -0.53878926],\n",
       "        [ 0.8787462 ,  1.02684052],\n",
       "        [-1.49802789, -1.20563157],\n",
       "        [ 1.07681071,  2.07059371],\n",
       "        [-1.00286662,  0.50496393],\n",
       "        [-0.90383437,  0.30201192],\n",
       "        [-0.11157634, -0.21986468],\n",
       "        [-0.60673761,  0.47597078],\n",
       "        [-1.6960924 ,  0.53395707],\n",
       "        [-0.11157634,  0.27301877],\n",
       "        [ 1.86906873, -0.27785096],\n",
       "        [-0.11157634, -0.48080297],\n",
       "        [-1.39899564, -0.33583725],\n",
       "        [-1.99318916, -0.50979612],\n",
       "        [-1.59706014,  0.33100506],\n",
       "        [-0.4086731 , -0.77073441],\n",
       "        [-0.70576986, -1.03167271],\n",
       "        [ 1.07681071, -0.97368642],\n",
       "        [-1.10189888,  0.53395707],\n",
       "        [ 0.28455268, -0.50979612],\n",
       "        [-1.10189888,  0.41798449],\n",
       "        [-0.30964085, -1.43757673],\n",
       "        [ 0.48261718,  1.22979253],\n",
       "        [-1.10189888, -0.33583725],\n",
       "        [-0.11157634,  0.30201192],\n",
       "        [ 1.37390747,  0.59194336],\n",
       "        [-1.20093113, -1.14764529],\n",
       "        [ 1.07681071,  0.47597078],\n",
       "        [ 1.86906873,  1.51972397],\n",
       "        [-0.4086731 , -1.29261101],\n",
       "        [-0.30964085, -0.3648304 ],\n",
       "        [-0.4086731 ,  1.31677196],\n",
       "        [ 2.06713324,  0.53395707],\n",
       "        [ 0.68068169, -1.089659  ],\n",
       "        [-0.90383437,  0.38899135],\n",
       "        [-1.20093113,  0.30201192],\n",
       "        [ 1.07681071, -1.20563157],\n",
       "        [-1.49802789, -1.43757673],\n",
       "        [-0.60673761, -1.49556302],\n",
       "        [ 2.1661655 , -0.79972756],\n",
       "        [-1.89415691,  0.18603934],\n",
       "        [-0.21060859,  0.85288166],\n",
       "        [-1.89415691, -1.26361786],\n",
       "        [ 2.1661655 ,  0.38899135],\n",
       "        [-1.39899564,  0.56295021],\n",
       "        [-1.10189888, -0.33583725],\n",
       "        [ 0.18552042, -0.65476184],\n",
       "        [ 0.38358493,  0.01208048],\n",
       "        [-0.60673761,  2.331532  ],\n",
       "        [-0.30964085,  0.21503249],\n",
       "        [-1.59706014, -0.19087153],\n",
       "        [ 0.68068169, -1.37959044],\n",
       "        [-1.10189888,  0.56295021],\n",
       "        [-1.99318916,  0.35999821],\n",
       "        [ 0.38358493,  0.27301877],\n",
       "        [ 0.18552042, -0.27785096],\n",
       "        [ 1.47293972, -1.03167271],\n",
       "        [ 0.8787462 ,  1.08482681],\n",
       "        [ 1.96810099,  2.15757314],\n",
       "        [ 2.06713324,  0.38899135],\n",
       "        [-1.39899564, -0.42281668],\n",
       "        [-1.20093113, -1.00267957],\n",
       "        [ 1.96810099, -0.91570013],\n",
       "        [ 0.38358493,  0.30201192],\n",
       "        [ 0.18552042,  0.1570462 ],\n",
       "        [ 2.06713324,  1.75166912],\n",
       "        [ 0.77971394, -0.8287207 ],\n",
       "        [ 0.28455268, -0.27785096],\n",
       "        [ 0.38358493, -0.16187839],\n",
       "        [-0.11157634,  2.21555943],\n",
       "        [-1.49802789, -0.62576869],\n",
       "        [-1.29996338, -1.06066585],\n",
       "        [-1.39899564,  0.41798449],\n",
       "        [-1.10189888,  0.76590222],\n",
       "        [-1.49802789, -0.19087153],\n",
       "        [ 0.97777845, -1.06066585],\n",
       "        [ 0.97777845,  0.59194336],\n",
       "        [ 0.38358493,  0.99784738]]))"
      ]
     },
     "execution_count": 35,
     "metadata": {},
     "output_type": "execute_result"
    }
   ],
   "source": [
    "# Feature Scaling\n",
    "from sklearn.preprocessing import StandardScaler\n",
    "sc_X = StandardScaler()\n",
    "\n",
    "X_train = sc_X.fit_transform(X_train)\n",
    "X_test = sc_X.transform(X_test)\n",
    "\n",
    "X_train,X_test"
   ]
  },
  {
   "cell_type": "markdown",
   "metadata": {
    "id": "_VB4b09roPhq"
   },
   "source": [
    "**Fitting Decision Tree Classification to the Training set**"
   ]
  },
  {
   "cell_type": "code",
   "execution_count": 36,
   "metadata": {
    "id": "0UxhDc2lnqKu"
   },
   "outputs": [
    {
     "data": {
      "text/html": [
       "<style>#sk-container-id-3 {color: black;background-color: white;}#sk-container-id-3 pre{padding: 0;}#sk-container-id-3 div.sk-toggleable {background-color: white;}#sk-container-id-3 label.sk-toggleable__label {cursor: pointer;display: block;width: 100%;margin-bottom: 0;padding: 0.3em;box-sizing: border-box;text-align: center;}#sk-container-id-3 label.sk-toggleable__label-arrow:before {content: \"▸\";float: left;margin-right: 0.25em;color: #696969;}#sk-container-id-3 label.sk-toggleable__label-arrow:hover:before {color: black;}#sk-container-id-3 div.sk-estimator:hover label.sk-toggleable__label-arrow:before {color: black;}#sk-container-id-3 div.sk-toggleable__content {max-height: 0;max-width: 0;overflow: hidden;text-align: left;background-color: #f0f8ff;}#sk-container-id-3 div.sk-toggleable__content pre {margin: 0.2em;color: black;border-radius: 0.25em;background-color: #f0f8ff;}#sk-container-id-3 input.sk-toggleable__control:checked~div.sk-toggleable__content {max-height: 200px;max-width: 100%;overflow: auto;}#sk-container-id-3 input.sk-toggleable__control:checked~label.sk-toggleable__label-arrow:before {content: \"▾\";}#sk-container-id-3 div.sk-estimator input.sk-toggleable__control:checked~label.sk-toggleable__label {background-color: #d4ebff;}#sk-container-id-3 div.sk-label input.sk-toggleable__control:checked~label.sk-toggleable__label {background-color: #d4ebff;}#sk-container-id-3 input.sk-hidden--visually {border: 0;clip: rect(1px 1px 1px 1px);clip: rect(1px, 1px, 1px, 1px);height: 1px;margin: -1px;overflow: hidden;padding: 0;position: absolute;width: 1px;}#sk-container-id-3 div.sk-estimator {font-family: monospace;background-color: #f0f8ff;border: 1px dotted black;border-radius: 0.25em;box-sizing: border-box;margin-bottom: 0.5em;}#sk-container-id-3 div.sk-estimator:hover {background-color: #d4ebff;}#sk-container-id-3 div.sk-parallel-item::after {content: \"\";width: 100%;border-bottom: 1px solid gray;flex-grow: 1;}#sk-container-id-3 div.sk-label:hover label.sk-toggleable__label {background-color: #d4ebff;}#sk-container-id-3 div.sk-serial::before {content: \"\";position: absolute;border-left: 1px solid gray;box-sizing: border-box;top: 0;bottom: 0;left: 50%;z-index: 0;}#sk-container-id-3 div.sk-serial {display: flex;flex-direction: column;align-items: center;background-color: white;padding-right: 0.2em;padding-left: 0.2em;position: relative;}#sk-container-id-3 div.sk-item {position: relative;z-index: 1;}#sk-container-id-3 div.sk-parallel {display: flex;align-items: stretch;justify-content: center;background-color: white;position: relative;}#sk-container-id-3 div.sk-item::before, #sk-container-id-3 div.sk-parallel-item::before {content: \"\";position: absolute;border-left: 1px solid gray;box-sizing: border-box;top: 0;bottom: 0;left: 50%;z-index: -1;}#sk-container-id-3 div.sk-parallel-item {display: flex;flex-direction: column;z-index: 1;position: relative;background-color: white;}#sk-container-id-3 div.sk-parallel-item:first-child::after {align-self: flex-end;width: 50%;}#sk-container-id-3 div.sk-parallel-item:last-child::after {align-self: flex-start;width: 50%;}#sk-container-id-3 div.sk-parallel-item:only-child::after {width: 0;}#sk-container-id-3 div.sk-dashed-wrapped {border: 1px dashed gray;margin: 0 0.4em 0.5em 0.4em;box-sizing: border-box;padding-bottom: 0.4em;background-color: white;}#sk-container-id-3 div.sk-label label {font-family: monospace;font-weight: bold;display: inline-block;line-height: 1.2em;}#sk-container-id-3 div.sk-label-container {text-align: center;}#sk-container-id-3 div.sk-container {/* jupyter's `normalize.less` sets `[hidden] { display: none; }` but bootstrap.min.css set `[hidden] { display: none !important; }` so we also need the `!important` here to be able to override the default hidden behavior on the sphinx rendered scikit-learn.org. See: https://github.com/scikit-learn/scikit-learn/issues/21755 */display: inline-block !important;position: relative;}#sk-container-id-3 div.sk-text-repr-fallback {display: none;}</style><div id=\"sk-container-id-3\" class=\"sk-top-container\"><div class=\"sk-text-repr-fallback\"><pre>DecisionTreeClassifier(criterion=&#x27;entropy&#x27;, random_state=0)</pre><b>In a Jupyter environment, please rerun this cell to show the HTML representation or trust the notebook. <br />On GitHub, the HTML representation is unable to render, please try loading this page with nbviewer.org.</b></div><div class=\"sk-container\" hidden><div class=\"sk-item\"><div class=\"sk-estimator sk-toggleable\"><input class=\"sk-toggleable__control sk-hidden--visually\" id=\"sk-estimator-id-3\" type=\"checkbox\" checked><label for=\"sk-estimator-id-3\" class=\"sk-toggleable__label sk-toggleable__label-arrow\">DecisionTreeClassifier</label><div class=\"sk-toggleable__content\"><pre>DecisionTreeClassifier(criterion=&#x27;entropy&#x27;, random_state=0)</pre></div></div></div></div></div>"
      ],
      "text/plain": [
       "DecisionTreeClassifier(criterion='entropy', random_state=0)"
      ]
     },
     "execution_count": 36,
     "metadata": {},
     "output_type": "execute_result"
    }
   ],
   "source": [
    "from sklearn.tree import DecisionTreeClassifier\n",
    "\n",
    "classifier = DecisionTreeClassifier(criterion = 'entropy', random_state =0)\n",
    "classifier.fit(X_train, y_train)"
   ]
  },
  {
   "cell_type": "markdown",
   "metadata": {
    "id": "XOl6_ERWoYh2"
   },
   "source": [
    "**Predicting the Test set results**"
   ]
  },
  {
   "cell_type": "code",
   "execution_count": 37,
   "metadata": {
    "id": "7xFCuAXjnqPN"
   },
   "outputs": [
    {
     "data": {
      "text/plain": [
       "array([0, 0, 0, 0, 0, 0, 0, 1, 0, 0, 0, 0, 0, 1, 0, 1, 1, 0, 1, 0, 0, 1,\n",
       "       0, 1, 0, 0, 0, 0, 0, 0, 0, 0, 1, 0, 0, 0, 0, 0, 0, 1, 0, 0, 0, 0,\n",
       "       1, 0, 0, 1, 0, 1, 1, 0, 0, 1, 1, 1, 0, 0, 1, 0, 0, 1, 0, 1, 0, 1,\n",
       "       0, 0, 0, 1, 1, 0, 0, 1, 0, 0, 0, 0, 1, 1, 1, 1, 0, 0, 1, 0, 0, 1,\n",
       "       1, 0, 0, 1, 0, 0, 0, 1, 0, 1, 1, 1], dtype=int64)"
      ]
     },
     "execution_count": 37,
     "metadata": {},
     "output_type": "execute_result"
    }
   ],
   "source": [
    "y_pred = classifier.predict(X_test)\n",
    "y_pred"
   ]
  },
  {
   "cell_type": "markdown",
   "metadata": {
    "id": "pqaQ_HTZogaZ"
   },
   "source": [
    "**Making the Confusion Matrix**"
   ]
  },
  {
   "cell_type": "code",
   "execution_count": 45,
   "metadata": {
    "id": "DdqNOMK8nqSs"
   },
   "outputs": [
    {
     "data": {
      "text/plain": [
       "Text(69.0, 0.5, 'Actual')"
      ]
     },
     "execution_count": 45,
     "metadata": {},
     "output_type": "execute_result"
    },
    {
     "data": {
      "image/png": "[encoded data removed]",
      "text/plain": [
       "<Figure size 720x504 with 2 Axes>"
      ]
     },
     "metadata": {
      "needs_background": "light"
     },
     "output_type": "display_data"
    }
   ],
   "source": [
    "from sklearn.metrics import confusion_matrix\n",
    "\n",
    "CM = confusion_matrix(y_test, y_pred)\n",
    "\n",
    "%matplotlib inline\n",
    "import matplotlib.pyplot as plt\n",
    "import seaborn as sn\n",
    "\n",
    "plt.figure(figsize=(10,7))\n",
    "sn.heatmap(CM,annot=True)\n",
    "\n",
    "plt.xlabel(\"Predicted\")\n",
    "plt.ylabel(\"Actual\")"
   ]
  },
  {
   "cell_type": "markdown",
   "metadata": {
    "id": "Ko5EDqqiopBl"
   },
   "source": [
    "**Visualising the Training set results**"
   ]
  },
  {
   "cell_type": "code",
   "execution_count": 43,
   "metadata": {
    "id": "y7C-xZjFnqVC"
   },
   "outputs": [
    {
     "name": "stderr",
     "output_type": "stream",
     "text": [
      "*c* argument looks like a single numeric RGB or RGBA sequence, which should be avoided as value-mapping will have precedence in case its length matches with *x* & *y*.  Please use the *color* keyword-argument or provide a 2D array with a single row if you intend to specify the same RGB or RGBA value for all points.\n",
      "*c* argument looks like a single numeric RGB or RGBA sequence, which should be avoided as value-mapping will have precedence in case its length matches with *x* & *y*.  Please use the *color* keyword-argument or provide a 2D array with a single row if you intend to specify the same RGB or RGBA value for all points.\n"
     ]
    },
    {
     "data": {
      "image/png": "[encoded data removed]",
      "text/plain": [
       "<Figure size 432x288 with 1 Axes>"
      ]
     },
     "metadata": {
      "needs_background": "light"
     },
     "output_type": "display_data"
    }
   ],
   "source": [
    "# Visualizing trainning data set\n",
    "\n",
    "from matplotlib.colors import ListedColormap\n",
    "X_set, y_set = X_train, y_train\n",
    "X1, X2 = np.meshgrid(np.arange(start = X_set[:, 0].min() - 1, stop = X_set[:, 0].max() + 1, step = 0.01),\n",
    "                     np.arange(start = X_set[:, 1].min() - 1, stop = X_set[:, 1].max() + 1, step = 0.01))\n",
    "\n",
    "plt.xlim(X1.min(), X1.max())\n",
    "plt.ylim(X2.min(), X2.max())\n",
    "for i, j in enumerate(np.unique(y_set)):\n",
    "    plt.scatter(X_set[y_set == j, 0], X_set[y_set == j, 1],\n",
    "                c = ListedColormap(('blue', 'orange'))(i), label = j)\n",
    "    \n",
    "plt.title('Decision Tree Classifier--Training set')\n",
    "plt.xlabel('Age')\n",
    "plt.ylabel('Estimated Salary')\n",
    "plt.legend()\n",
    "plt.show()"
   ]
  },
  {
   "cell_type": "markdown",
   "metadata": {
    "id": "ExFSX84Hou9C"
   },
   "source": [
    "**Visualising the Test set results**"
   ]
  },
  {
   "cell_type": "code",
   "execution_count": 44,
   "metadata": {
    "id": "zHbPz86Noj6d",
    "scrolled": true
   },
   "outputs": [
    {
     "name": "stderr",
     "output_type": "stream",
     "text": [
      "*c* argument looks like a single numeric RGB or RGBA sequence, which should be avoided as value-mapping will have precedence in case its length matches with *x* & *y*.  Please use the *color* keyword-argument or provide a 2D array with a single row if you intend to specify the same RGB or RGBA value for all points.\n",
      "*c* argument looks like a single numeric RGB or RGBA sequence, which should be avoided as value-mapping will have precedence in case its length matches with *x* & *y*.  Please use the *color* keyword-argument or provide a 2D array with a single row if you intend to specify the same RGB or RGBA value for all points.\n"
     ]
    },
    {
     "data": {
      "image/png": "[encoded data removed]",
      "text/plain": [
       "<Figure size 432x288 with 1 Axes>"
      ]
     },
     "metadata": {
      "needs_background": "light"
     },
     "output_type": "display_data"
    }
   ],
   "source": [
    "# Visualizing test data set\n",
    "\n",
    "from matplotlib.colors import ListedColormap\n",
    "X_set, y_set = X_test, y_test\n",
    "X1, X2 = np.meshgrid(np.arange(start = X_set[:, 0].min() - 1, stop = X_set[:, 0].max() + 1, step = 0.01),\n",
    "                     np.arange(start = X_set[:, 1].min() - 1, stop = X_set[:, 1].max() + 1, step = 0.01))\n",
    "\n",
    "plt.xlim(X1.min(), X1.max())\n",
    "plt.ylim(X2.min(), X2.max())\n",
    "for i, j in enumerate(np.unique(y_set)):\n",
    "    plt.scatter(X_set[y_set == j, 0], X_set[y_set == j, 1],\n",
    "                c = ListedColormap(('blue', 'orange'))(i), label = j)\n",
    "    \n",
    "plt.title('Decision Tree Classifier--Test set')\n",
    "plt.xlabel('Age')\n",
    "plt.ylabel('Estimated Salary')\n",
    "plt.legend()\n",
    "plt.show()"
   ]
  }
 ],
 "metadata": {
  "colab": {
   "provenance": []
  },
  "kernelspec": {
   "display_name": "Python 3 (ipykernel)",
   "language": "python",
   "name": "python3"
  },
  "language_info": {
   "codemirror_mode": {
    "name": "ipython",
    "version": 3
   },
   "file_extension": ".py",
   "mimetype": "text/x-python",
   "name": "python",
   "nbconvert_exporter": "python",
   "pygments_lexer": "ipython3",
   "version": "3.9.13"
  }
 },
 "nbformat": 4,
 "nbformat_minor": 1
}
