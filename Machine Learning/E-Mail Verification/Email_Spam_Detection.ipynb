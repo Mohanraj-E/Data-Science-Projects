{
 "cells": [
  {
   "cell_type": "code",
   "execution_count": 1,
   "id": "03315449",
   "metadata": {},
   "outputs": [],
   "source": [
    "# Importing the important and required libraries\n",
    "\n",
    "import pandas as pd\n",
    "import numpy as np\n",
    "import matplotlib.pyplot as plt\n",
    "from sklearn.naive_bayes import MultinomialNB"
   ]
  },
  {
   "cell_type": "code",
   "execution_count": 2,
   "id": "36ff00f3",
   "metadata": {},
   "outputs": [
    {
     "data": {
      "text/html": [
       "<div>\n",
       "<style scoped>\n",
       "    .dataframe tbody tr th:only-of-type {\n",
       "        vertical-align: middle;\n",
       "    }\n",
       "\n",
       "    .dataframe tbody tr th {\n",
       "        vertical-align: top;\n",
       "    }\n",
       "\n",
       "    .dataframe thead th {\n",
       "        text-align: right;\n",
       "    }\n",
       "</style>\n",
       "<table border=\"1\" class=\"dataframe\">\n",
       "  <thead>\n",
       "    <tr style=\"text-align: right;\">\n",
       "      <th></th>\n",
       "      <th>Category</th>\n",
       "      <th>Message</th>\n",
       "    </tr>\n",
       "  </thead>\n",
       "  <tbody>\n",
       "    <tr>\n",
       "      <th>0</th>\n",
       "      <td>ham</td>\n",
       "      <td>Go until jurong point, crazy.. Available only ...</td>\n",
       "    </tr>\n",
       "    <tr>\n",
       "      <th>1</th>\n",
       "      <td>ham</td>\n",
       "      <td>Ok lar... Joking wif u oni...</td>\n",
       "    </tr>\n",
       "    <tr>\n",
       "      <th>2</th>\n",
       "      <td>spam</td>\n",
       "      <td>Free entry in 2 a wkly comp to win FA Cup fina...</td>\n",
       "    </tr>\n",
       "    <tr>\n",
       "      <th>3</th>\n",
       "      <td>ham</td>\n",
       "      <td>U dun say so early hor... U c already then say...</td>\n",
       "    </tr>\n",
       "    <tr>\n",
       "      <th>4</th>\n",
       "      <td>ham</td>\n",
       "      <td>Nah I don't think he goes to usf, he lives aro...</td>\n",
       "    </tr>\n",
       "  </tbody>\n",
       "</table>\n",
       "</div>"
      ],
      "text/plain": [
       "  Category                                            Message\n",
       "0      ham  Go until jurong point, crazy.. Available only ...\n",
       "1      ham                      Ok lar... Joking wif u oni...\n",
       "2     spam  Free entry in 2 a wkly comp to win FA Cup fina...\n",
       "3      ham  U dun say so early hor... U c already then say...\n",
       "4      ham  Nah I don't think he goes to usf, he lives aro..."
      ]
     },
     "execution_count": 2,
     "metadata": {},
     "output_type": "execute_result"
    }
   ],
   "source": [
    "# Importing the data\n",
    "Spam = pd.read_csv(r\"C:\\Users\\MOHANRAJ\\Desktop\\Projects\\Machine Learning\\Email Spam Detection\\spam.csv\")\n",
    "Spam.head()"
   ]
  },
  {
   "cell_type": "code",
   "execution_count": 3,
   "id": "d21f6b17",
   "metadata": {},
   "outputs": [
    {
     "data": {
      "text/plain": [
       "Category    0\n",
       "Message     0\n",
       "dtype: int64"
      ]
     },
     "execution_count": 3,
     "metadata": {},
     "output_type": "execute_result"
    }
   ],
   "source": [
    "# To find if nan values present\n",
    "Spam.isnull().sum()"
   ]
  },
  {
   "cell_type": "code",
   "execution_count": 7,
   "id": "0e13f815",
   "metadata": {},
   "outputs": [
    {
     "data": {
      "text/html": [
       "<div>\n",
       "<style scoped>\n",
       "    .dataframe tbody tr th:only-of-type {\n",
       "        vertical-align: middle;\n",
       "    }\n",
       "\n",
       "    .dataframe tbody tr th {\n",
       "        vertical-align: top;\n",
       "    }\n",
       "\n",
       "    .dataframe thead th {\n",
       "        text-align: right;\n",
       "    }\n",
       "</style>\n",
       "<table border=\"1\" class=\"dataframe\">\n",
       "  <thead>\n",
       "    <tr style=\"text-align: right;\">\n",
       "      <th></th>\n",
       "      <th>Message</th>\n",
       "      <th>Spam</th>\n",
       "    </tr>\n",
       "  </thead>\n",
       "  <tbody>\n",
       "    <tr>\n",
       "      <th>0</th>\n",
       "      <td>Go until jurong point, crazy.. Available only ...</td>\n",
       "      <td>0</td>\n",
       "    </tr>\n",
       "    <tr>\n",
       "      <th>1</th>\n",
       "      <td>Ok lar... Joking wif u oni...</td>\n",
       "      <td>0</td>\n",
       "    </tr>\n",
       "    <tr>\n",
       "      <th>2</th>\n",
       "      <td>Free entry in 2 a wkly comp to win FA Cup fina...</td>\n",
       "      <td>1</td>\n",
       "    </tr>\n",
       "    <tr>\n",
       "      <th>3</th>\n",
       "      <td>U dun say so early hor... U c already then say...</td>\n",
       "      <td>0</td>\n",
       "    </tr>\n",
       "    <tr>\n",
       "      <th>4</th>\n",
       "      <td>Nah I don't think he goes to usf, he lives aro...</td>\n",
       "      <td>0</td>\n",
       "    </tr>\n",
       "  </tbody>\n",
       "</table>\n",
       "</div>"
      ],
      "text/plain": [
       "                                             Message  Spam\n",
       "0  Go until jurong point, crazy.. Available only ...     0\n",
       "1                      Ok lar... Joking wif u oni...     0\n",
       "2  Free entry in 2 a wkly comp to win FA Cup fina...     1\n",
       "3  U dun say so early hor... U c already then say...     0\n",
       "4  Nah I don't think he goes to usf, he lives aro...     0"
      ]
     },
     "execution_count": 7,
     "metadata": {},
     "output_type": "execute_result"
    }
   ],
   "source": [
    "# Creating a column using one hot encoding\n",
    "Spam[\"Spam\"]=Spam[\"Category\"].map({\"ham\":0,\"spam\":1})\n",
    "\n",
    "# Droping the Category column\n",
    "Spam = Spam.drop(\"Category\",axis=1)\n",
    "\n",
    "Spam.head()"
   ]
  },
  {
   "cell_type": "code",
   "execution_count": 11,
   "id": "10916c1f",
   "metadata": {},
   "outputs": [
    {
     "data": {
      "text/plain": [
       "<4179x7468 sparse matrix of type '<class 'numpy.int64'>'\n",
       "\twith 55630 stored elements in Compressed Sparse Row format>"
      ]
     },
     "execution_count": 11,
     "metadata": {},
     "output_type": "execute_result"
    }
   ],
   "source": [
    "# Now we are going to split the data into Train and Test datasets\n",
    "# Using sklearn.model --> train_test_split\n",
    "\n",
    "from sklearn.model_selection import train_test_split\n",
    "Xinp_train,Xinp_test,Yout_train,Yout_test = train_test_split(Spam.Message,Spam.Spam)\n",
    "\n",
    "\n",
    "\n",
    "# Message are in categorical needed to change into numerical using countvectorizer\n",
    "from sklearn.feature_extraction.text import CountVectorizer\n",
    "CV=CountVectorizer()\n",
    "CV.fit(Xinp_train)\n",
    "xinp_train=CV.transform(Xinp_train)\n",
    "xinp_test=CV.transform(Xinp_test)\n",
    "\n",
    "xinp_train"
   ]
  },
  {
   "cell_type": "code",
   "execution_count": 14,
   "id": "e6df67e5",
   "metadata": {},
   "outputs": [
    {
     "data": {
      "text/plain": [
       "MultinomialNB()"
      ]
     },
     "execution_count": 14,
     "metadata": {},
     "output_type": "execute_result"
    }
   ],
   "source": [
    "# Model building\n",
    "Model=MultinomialNB()\n",
    "Model.fit(xinp_train,Yout_train)"
   ]
  },
  {
   "cell_type": "code",
   "execution_count": 15,
   "id": "e089c70d",
   "metadata": {},
   "outputs": [
    {
     "data": {
      "text/plain": [
       "0.9849246231155779"
      ]
     },
     "execution_count": 15,
     "metadata": {},
     "output_type": "execute_result"
    }
   ],
   "source": [
    "# To Check the score of the Test datasets\n",
    "Model.score(xinp_test,Yout_test)"
   ]
  },
  {
   "cell_type": "code",
   "execution_count": 18,
   "id": "fe205796",
   "metadata": {},
   "outputs": [
    {
     "data": {
      "text/plain": [
       "array([0, 1], dtype=int64)"
      ]
     },
     "execution_count": 18,
     "metadata": {},
     "output_type": "execute_result"
    }
   ],
   "source": [
    "# For Example checking the model\n",
    "emails = ['I linked the documents for yor reference',\n",
    "          'Upto 20% discount on parking, exclusive offer just for you. Dont miss this reward!']\n",
    "email=CV.transform(emails)\n",
    "\n",
    "# Prediction\n",
    "Model.predict(email)"
   ]
  },
  {
   "cell_type": "code",
   "execution_count": 22,
   "id": "80f13796",
   "metadata": {},
   "outputs": [],
   "source": [
    "# Save the model\n",
    "import pickle\n",
    "with open(\"multinominal.pkl\",\"wb\") as f:\n",
    "    pickle.dump(model,f)\n",
    "    \n",
    "# Using pipelines\n",
    "from sklearn.pipeline import Pipeline\n",
    "clf = Pipeline([('vectorizer', CountVectorizer()),\n",
    "                ('nb', MultinomialNB())])"
   ]
  },
  {
   "cell_type": "code",
   "execution_count": 63,
   "id": "49f3a101",
   "metadata": {},
   "outputs": [
    {
     "data": {
      "text/plain": [
       "array([0, 1], dtype=int64)"
      ]
     },
     "execution_count": 63,
     "metadata": {},
     "output_type": "execute_result"
    }
   ],
   "source": [
    "# Fitting the Train dataset\n",
    "clf.fit(Xinp_train,Yout_train)\n",
    "\n",
    "# Prediction\n",
    "clf.predict(emails)\n"
   ]
  },
  {
   "cell_type": "code",
   "execution_count": 71,
   "id": "e74e583b",
   "metadata": {},
   "outputs": [
    {
     "name": "stdout",
     "output_type": "stream",
     "text": [
      "Upto 20% discount on parking, exclusive offer just for you. Dont miss this reward! | Hey mohan, can we get together to watch footbal game tomorrow?\n"
     ]
    },
    {
     "data": {
      "text/html": [
       "<div>\n",
       "<style scoped>\n",
       "    .dataframe tbody tr th:only-of-type {\n",
       "        vertical-align: middle;\n",
       "    }\n",
       "\n",
       "    .dataframe tbody tr th {\n",
       "        vertical-align: top;\n",
       "    }\n",
       "\n",
       "    .dataframe thead th {\n",
       "        text-align: right;\n",
       "    }\n",
       "</style>\n",
       "<table border=\"1\" class=\"dataframe\">\n",
       "  <thead>\n",
       "    <tr style=\"text-align: right;\">\n",
       "      <th></th>\n",
       "      <th>E-mail</th>\n",
       "      <th>Status</th>\n",
       "    </tr>\n",
       "  </thead>\n",
       "  <tbody>\n",
       "    <tr>\n",
       "      <th>0</th>\n",
       "      <td>Upto 20% discount on parking, exclusive offer ...</td>\n",
       "      <td>Spam</td>\n",
       "    </tr>\n",
       "    <tr>\n",
       "      <th>1</th>\n",
       "      <td>Hey mohan, can we get together to watch footb...</td>\n",
       "      <td>Not Spam</td>\n",
       "    </tr>\n",
       "  </tbody>\n",
       "</table>\n",
       "</div>"
      ],
      "text/plain": [
       "                                              E-mail    Status\n",
       "0  Upto 20% discount on parking, exclusive offer ...      Spam\n",
       "1   Hey mohan, can we get together to watch footb...  Not Spam"
      ]
     },
     "execution_count": 71,
     "metadata": {},
     "output_type": "execute_result"
    }
   ],
   "source": [
    "# Creating a model which Accepts user input and determine wether it is Spam or not\n",
    "E_mail_input=list(input().split(\"|\"))\n",
    "\n",
    "# Applying it in the Model created above\n",
    "status = clf.predict(E_mail_input)\n",
    "\n",
    "# Creating the dataFrame with the above data\n",
    "Spam_Detection = pd.DataFrame(E_mail_input)\n",
    "Spam_Detection[\"spam\"] = status.tolist()\n",
    "Spam_Detection.columns = [\"E-mail\",\"spam\"]\n",
    "\n",
    "# Creating a column using one hot encoding\n",
    "Spam_Detection[\"Status\"] = Spam_Detection[\"spam\"].map({0:\"Not Spam\",1:\"Spam\"})\n",
    "\n",
    "# Droping the spam column\n",
    "Spam_Detection = Spam_Detection.drop(\"spam\",axis=1)\n",
    "\n",
    "Spam_Detection"
   ]
  }
 ],
 "metadata": {
  "kernelspec": {
   "display_name": "Python 3 (ipykernel)",
   "language": "python",
   "name": "python3"
  },
  "language_info": {
   "codemirror_mode": {
    "name": "ipython",
    "version": 3
   },
   "file_extension": ".py",
   "mimetype": "text/x-python",
   "name": "python",
   "nbconvert_exporter": "python",
   "pygments_lexer": "ipython3",
   "version": "3.9.12"
  }
 },
 "nbformat": 4,
 "nbformat_minor": 5
}
