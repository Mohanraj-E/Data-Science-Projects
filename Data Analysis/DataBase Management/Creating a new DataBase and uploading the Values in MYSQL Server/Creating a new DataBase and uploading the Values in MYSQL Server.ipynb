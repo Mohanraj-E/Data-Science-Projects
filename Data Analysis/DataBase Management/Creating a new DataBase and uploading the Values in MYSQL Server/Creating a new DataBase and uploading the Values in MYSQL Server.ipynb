{
 "cells": [
  {
   "cell_type": "code",
   "execution_count": 8,
   "id": "54cd10c5",
   "metadata": {},
   "outputs": [],
   "source": [
    "# Creating a new DataBase and uploading the Values in MYSQL Server\n",
    "\n",
    "import mysql.connector\n",
    "\n",
    "# Making Connection between Python MySQL with the DataBase Server\n",
    "New_Data = mysql.connector.connect(host = \"localhost\" , user = \"root\" , password=\"\")\n",
    "\n",
    "# Preparing a cursur object in Python\n",
    "NData_Cursor = New_Data.cursor()\n",
    "\n",
    "# Creating a new DataBase\n",
    "Database_name = \"CREATE DATABASE Sports\"\n",
    "NData_Cursor.execute(Database_name)\n",
    "\n",
    "# Committing and Closing the Connection\n",
    "New_Data.commit()\n",
    "New_Data.close()"
   ]
  },
  {
   "cell_type": "code",
   "execution_count": 16,
   "id": "22b9d012",
   "metadata": {},
   "outputs": [],
   "source": [
    "# Making Connection between Python MySQL with the DataBase Server\n",
    "\n",
    "New_Data = mysql.connector.connect(host = \"localhost\" , user = \"root\" , password=\"\" , database = \"Sports\")\n",
    "\n",
    "# Preparing a cursur object in Python\n",
    "NData_Cursor = New_Data.cursor()\n",
    "\n",
    "# Creating a new table\n",
    "Table_name = \"CREATE TABLE NBA ( Name VARCHAR(255),Team VARCHAR(255),Number Float(10),Position TEXT(10),Age Float(10),Height VARCHAR(10),Weight Float(10),College TEXT(200),Salary BIGINT(200) )\"\n",
    "\n",
    "NData_Cursor.execute(Table_name)"
   ]
  },
  {
   "cell_type": "code",
   "execution_count": 44,
   "id": "81ccb63c",
   "metadata": {},
   "outputs": [],
   "source": [
    "# Import the available data\n",
    "\n",
    "import pandas as pd\n",
    "NBA=pd.read_csv(r\"C:\\Users\\MOHANRAJ\\Desktop\\Python Programs\\Main-Boot-First-Class\\nba.csv\")\n",
    "nba = []\n",
    "nba= NBA.dropna()\n",
    "NBA_Data = nba.values.tolist()\n",
    "\n",
    "# Inserting thde data into the Table NBA\n",
    "NBA_Data_Insert = \"INSERT INTO `NBA` (Name,Team,Number,Position,Age,Height,Weight,College,Salary) VALUES (%s, %s, %s, %s, %s, %s, %s, %s, %s)\"\n",
    "NData_Cursor.executemany(NBA_Data_Insert, NBA_Data)\n",
    "\n",
    "# Committing and Closing the Connection\n",
    "New_Data.commit()\n",
    "New_Data.close()"
   ]
  },
  {
   "cell_type": "code",
   "execution_count": null,
   "id": "8e9db981",
   "metadata": {},
   "outputs": [],
   "source": []
  },
  {
   "cell_type": "code",
   "execution_count": null,
   "id": "3e275b51",
   "metadata": {},
   "outputs": [],
   "source": []
  },
  {
   "cell_type": "code",
   "execution_count": null,
   "id": "06a6ef07",
   "metadata": {},
   "outputs": [],
   "source": []
  },
  {
   "cell_type": "code",
   "execution_count": null,
   "id": "71d83594",
   "metadata": {},
   "outputs": [],
   "source": []
  },
  {
   "cell_type": "code",
   "execution_count": null,
   "id": "625d49b2",
   "metadata": {},
   "outputs": [],
   "source": [
    "# Creating a new DataBase and uploading the Values in MYSQL Server\n",
    "\n",
    "import mysql.connector\n",
    "\n",
    "# Making Connection between Python MySQL with the DataBase Server\n",
    "New_Data = mysql.connector.connect(host = \"localhost\" , user = \"root\" , password=\"\")\n",
    "\n",
    "# Preparing a cursur object in Python\n",
    "NData_Cursor = New_Data.cursor()\n",
    "\n",
    "# Creating a new DataBase\n",
    "Database_name = \"CREATE DATABASE Titanic\"\n",
    "NData_Cursor.execute(Database_name)\n",
    "\n",
    "# Committing and Closing the Connection\n",
    "New_Data.commit()\n",
    "New_Data.close()"
   ]
  },
  {
   "cell_type": "code",
   "execution_count": null,
   "id": "6e996fe9",
   "metadata": {},
   "outputs": [],
   "source": [
    "# Making Connection between Python MySQL with the DataBase Server\n",
    "\n",
    "New_Data = mysql.connector.connect(host = \"localhost\" , user = \"root\" , password=\"\" , database = \"Titanic\")\n",
    "\n",
    "# Preparing a cursur object in Python\n",
    "NData_Cursor = New_Data.cursor()\n",
    "\n",
    "# Creating a new table\n",
    "Table_name = \"CREATE TABLE Status ( survived int(100),pclass int(100),sex TEXT(10),age FLOAT(5),sibsp INT(10),parch INT(10),fare Float(10),embarked TEXT(10),class TEXT(20),who TEXT(10),adult_male TEXT(20),deck TEXT(10),embark_town TEXT(100),alive TEXT(10),alone TEXT(10) )\"\n",
    "\n",
    "NData_Cursor.execute(Table_name)"
   ]
  },
  {
   "cell_type": "code",
   "execution_count": null,
   "id": "96bde50d",
   "metadata": {},
   "outputs": [],
   "source": [
    "# Import the available data\n",
    "\n",
    "import pandas as pd\n",
    "import seaborn as sns\n",
    "dft = sns.load_dataset(\"titanic\")\n",
    "ti = []\n",
    "ti= dft.dropna()\n",
    "Titanic = ti.values.tolist()\n",
    "\n",
    "\n",
    "# Inserting thde data into the Table Status\n",
    "NBA_Data_Insert = \"INSERT INTO `Status` (survived,pclass,sex,age,sibsp,parch,fare,embarked,class,who,adult_male,deck,embark_town,alive,alone) VALUES (%s, %s, %s, %s, %s, %s, %s, %s, %s, %s, %s, %s, %s, %s, %s)\"\n",
    "NData_Cursor.executemany(NBA_Data_Insert, Titanic)\n",
    "\n",
    "# Committing and Closing the Connection\n",
    "New_Data.commit()\n",
    "New_Data.close()"
   ]
  }
 ],
 "metadata": {
  "kernelspec": {
   "display_name": "Python 3 (ipykernel)",
   "language": "python",
   "name": "python3"
  },
  "language_info": {
   "codemirror_mode": {
    "name": "ipython",
    "version": 3
   },
   "file_extension": ".py",
   "mimetype": "text/x-python",
   "name": "python",
   "nbconvert_exporter": "python",
   "pygments_lexer": "ipython3",
   "version": "3.9.12"
  }
 },
 "nbformat": 4,
 "nbformat_minor": 5
}
