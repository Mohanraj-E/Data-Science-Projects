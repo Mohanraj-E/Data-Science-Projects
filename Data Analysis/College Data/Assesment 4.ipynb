{
 "cells": [
  {
   "cell_type": "code",
   "execution_count": 1,
   "id": "2f44ec5a",
   "metadata": {},
   "outputs": [],
   "source": [
    "import pandas as pd\n",
    "import numpy as np\n",
    "import matplotlib.pyplot as plt"
   ]
  },
  {
   "cell_type": "code",
   "execution_count": 137,
   "id": "b95809b9",
   "metadata": {},
   "outputs": [
    {
     "data": {
      "text/html": [
       "<div>\n",
       "<style scoped>\n",
       "    .dataframe tbody tr th:only-of-type {\n",
       "        vertical-align: middle;\n",
       "    }\n",
       "\n",
       "    .dataframe tbody tr th {\n",
       "        vertical-align: top;\n",
       "    }\n",
       "\n",
       "    .dataframe thead th {\n",
       "        text-align: right;\n",
       "    }\n",
       "</style>\n",
       "<table border=\"1\" class=\"dataframe\">\n",
       "  <thead>\n",
       "    <tr style=\"text-align: right;\">\n",
       "      <th></th>\n",
       "      <th>Name</th>\n",
       "      <th>python</th>\n",
       "      <th>mysql</th>\n",
       "      <th>Previous Geekions</th>\n",
       "      <th>CodeKata Score</th>\n",
       "      <th>Department</th>\n",
       "      <th>Rising</th>\n",
       "      <th>python_en</th>\n",
       "      <th>computational_thinking</th>\n",
       "    </tr>\n",
       "  </thead>\n",
       "  <tbody>\n",
       "    <tr>\n",
       "      <th>0</th>\n",
       "      <td>A.Dharani</td>\n",
       "      <td>82.0</td>\n",
       "      <td>20.0</td>\n",
       "      <td>24500</td>\n",
       "      <td>24500</td>\n",
       "      <td>Computer Science and Engineering</td>\n",
       "      <td>0</td>\n",
       "      <td>NaN</td>\n",
       "      <td>NaN</td>\n",
       "    </tr>\n",
       "    <tr>\n",
       "      <th>1</th>\n",
       "      <td>V.JEEVITHA</td>\n",
       "      <td>82.0</td>\n",
       "      <td>20.0</td>\n",
       "      <td>21740</td>\n",
       "      <td>21740</td>\n",
       "      <td>Computer Science and Engineering</td>\n",
       "      <td>0</td>\n",
       "      <td>NaN</td>\n",
       "      <td>NaN</td>\n",
       "    </tr>\n",
       "    <tr>\n",
       "      <th>2</th>\n",
       "      <td>HEMAVATHI.R</td>\n",
       "      <td>100.0</td>\n",
       "      <td>100.0</td>\n",
       "      <td>19680</td>\n",
       "      <td>19680</td>\n",
       "      <td>Computer Science and Engineering</td>\n",
       "      <td>0</td>\n",
       "      <td>NaN</td>\n",
       "      <td>NaN</td>\n",
       "    </tr>\n",
       "    <tr>\n",
       "      <th>3</th>\n",
       "      <td>Mugunthan S</td>\n",
       "      <td>100.0</td>\n",
       "      <td>47.0</td>\n",
       "      <td>10610</td>\n",
       "      <td>10610</td>\n",
       "      <td>Computer Science and Engineering</td>\n",
       "      <td>0</td>\n",
       "      <td>NaN</td>\n",
       "      <td>NaN</td>\n",
       "    </tr>\n",
       "    <tr>\n",
       "      <th>4</th>\n",
       "      <td>Sathammai.S</td>\n",
       "      <td>100.0</td>\n",
       "      <td>8.0</td>\n",
       "      <td>8980</td>\n",
       "      <td>8980</td>\n",
       "      <td>Computer Science and Engineering</td>\n",
       "      <td>0</td>\n",
       "      <td>NaN</td>\n",
       "      <td>NaN</td>\n",
       "    </tr>\n",
       "  </tbody>\n",
       "</table>\n",
       "</div>"
      ],
      "text/plain": [
       "          Name  python  mysql  Previous Geekions  CodeKata Score  \\\n",
       "0    A.Dharani    82.0   20.0              24500           24500   \n",
       "1  V.JEEVITHA     82.0   20.0              21740           21740   \n",
       "2  HEMAVATHI.R   100.0  100.0              19680           19680   \n",
       "3  Mugunthan S   100.0   47.0              10610           10610   \n",
       "4  Sathammai.S   100.0    8.0               8980            8980   \n",
       "\n",
       "                         Department  Rising  python_en  computational_thinking  \n",
       "0  Computer Science and Engineering       0        NaN                     NaN  \n",
       "1  Computer Science and Engineering       0        NaN                     NaN  \n",
       "2  Computer Science and Engineering       0        NaN                     NaN  \n",
       "3  Computer Science and Engineering       0        NaN                     NaN  \n",
       "4  Computer Science and Engineering       0        NaN                     NaN  "
      ]
     },
     "execution_count": 137,
     "metadata": {},
     "output_type": "execute_result"
    }
   ],
   "source": [
    "# Importing the data 1\n",
    "Data_1 = pd.read_csv(r\"C:\\Users\\MOHANRAJ\\Desktop\\Python Programs\\Assignments\\Assignment 4\\Data Analysis and visualization\\college_1.csv\")\n",
    "\n",
    "# Importing the data 2\n",
    "Data_2 = pd.read_csv(r\"C:\\Users\\MOHANRAJ\\Desktop\\Python Programs\\Assignments\\Assignment 4\\Data Analysis and visualization\\college_2.csv\")\n",
    "\n",
    "# Merging both data into one\n",
    "College_Data=pd.concat([Data_1 , Data_2])\n",
    "College_Data.head()"
   ]
  },
  {
   "cell_type": "code",
   "execution_count": 15,
   "id": "8f832aaf",
   "metadata": {},
   "outputs": [],
   "source": [
    "# Take each csv file , split that csv file into multiple categories (example csv files are added in the repo)\n",
    "# The codekata score exceeds 15000 points(present week) then make a csv on those observations as Exceeded expectations.csv\n",
    "Exceeded_expectations = College_Data[College_Data[\"CodeKata Score\"] > 15000]\n",
    "Exceeded_expectations.to_csv(\"Exceeded expectations.csv\" , index=False)\n",
    "\n",
    "# If 10000<codekata score<15000 (Reached_expectations.csv)\n",
    "Reached_expectations = College_Data[(College_Data[\"CodeKata Score\"] > 10000) & (College_Data[\"CodeKata Score\"] < 15000)]\n",
    "Reached_expectations.to_csv(\"Reached_expectations.csv\" , index=False)\n",
    "\n",
    "# If 7000<codekata score<10000 (Needs_Improvement.csv)\n",
    "Needs_Improvement = College_Data[(College_Data[\"CodeKata Score\"] > 7000) & (College_Data[\"CodeKata Score\"] < 10000)]\n",
    "Needs_Improvement.to_csv(\"Needs_Improvement.csv\" , index=False)\n",
    "\n",
    "# If codekate score < 7000 (Unsatisfactory.csv)\n",
    "Unsatisfactory = College_Data[College_Data[\"CodeKata Score\"] < 7000]\n",
    "Unsatisfactory.to_csv(\"Unsatisfactory.csv\" , index=False)"
   ]
  },
  {
   "cell_type": "code",
   "execution_count": 22,
   "id": "c197e7ff",
   "metadata": {},
   "outputs": [
    {
     "name": "stdout",
     "output_type": "stream",
     "text": [
      "Average of Previous Geekions is : 3842.3529411764707 \n",
      "\n",
      "Average of Codekata Score is : 4051.764705882353\n"
     ]
    }
   ],
   "source": [
    "# Average of previous week geekions vs this week geekions (i.e Previous Geekions vs CodeKata Score)\n",
    "\n",
    "# Average of Previous Geekions\n",
    "print(\"Average of Previous Geekions is :\",np.mean(College_Data[\"Previous Geekions\"]),\"\\n\")\n",
    "\n",
    "# Average of Codekata Score\n",
    "print(\"Average of Codekata Score is :\",np.mean(College_Data[\"CodeKata Score\"]))"
   ]
  },
  {
   "cell_type": "code",
   "execution_count": 42,
   "id": "196ee8f2",
   "metadata": {},
   "outputs": [
    {
     "data": {
      "text/plain": [
       "119"
      ]
     },
     "execution_count": 42,
     "metadata": {},
     "output_type": "execute_result"
    }
   ],
   "source": [
    "# No of students participated\n",
    "len(College_Data[\"Name\"])"
   ]
  },
  {
   "cell_type": "code",
   "execution_count": 186,
   "id": "9bb66099",
   "metadata": {},
   "outputs": [
    {
     "name": "stdout",
     "output_type": "stream",
     "text": [
      "Average completion of python course out of 119 students is : 34.45 % \n",
      "\n",
      "Average completion of my_sql out of 119 students is : 11.76 % \n",
      "\n",
      "Average completion of python english out of 119 students is : 1.68 % \n",
      "\n",
      "Average completion of computational thinking out of 119 students is : 0.0 %\n"
     ]
    }
   ],
   "source": [
    "# Average completion of python course or my_sql or python english or computational thinking\n",
    "\n",
    "# Average completion of python course\n",
    "completion_of_python_course = College_Data[College_Data[\"python\"] == 100.0]\n",
    "Average_completion_of_python = (len(completion_of_python_course))/(len(College_Data[\"python\"]))*100\n",
    "\n",
    "print(\"Average completion of python course out of 119 students is :\",round(Average_completion_of_python, 2),\"%\",\"\\n\")\n",
    "      \n",
    "# Average completion of my_sql\n",
    "completion_of_my_sql = College_Data[College_Data[\"mysql\"] == 100.0]\n",
    "Average_completion_of_my_sql = (len(completion_of_my_sql))/(len(College_Data[\"mysql\"]))*100\n",
    "\n",
    "print(\"Average completion of my_sql out of 119 students is :\",round(Average_completion_of_my_sql, 2),\"%\",\"\\n\")\n",
    "\n",
    "# Average completion of python english\n",
    "completion_of_python_english = College_Data[College_Data[\"python_en\"] == 100.0]\n",
    "Average_completion_of_python_english = (len(completion_of_python_english))/(len(College_Data[\"python_en\"]))*100\n",
    "\n",
    "print(\"Average completion of python english out of 119 students is :\",round(Average_completion_of_python_english, 2),\"%\",\"\\n\")\n",
    "\n",
    "# Average completion of computational thinking\n",
    "completion_of_computational_thinking = College_Data[College_Data[\"computational_thinking\"] == 100.0]\n",
    "Average_completion_of_computational_thinking = (len(completion_of_computational_thinking))/(len(College_Data[\"computational_thinking\"]))*100\n",
    "\n",
    "print(\"Average completion of computational thinking out of 119 students is :\",round(Average_completion_of_computational_thinking, 2),\"%\")\n"
   ]
  },
  {
   "cell_type": "code",
   "execution_count": 73,
   "id": "762b3fa9",
   "metadata": {},
   "outputs": [
    {
     "data": {
      "text/html": [
       "<div>\n",
       "<style scoped>\n",
       "    .dataframe tbody tr th:only-of-type {\n",
       "        vertical-align: middle;\n",
       "    }\n",
       "\n",
       "    .dataframe tbody tr th {\n",
       "        vertical-align: top;\n",
       "    }\n",
       "\n",
       "    .dataframe thead th {\n",
       "        text-align: right;\n",
       "    }\n",
       "</style>\n",
       "<table border=\"1\" class=\"dataframe\">\n",
       "  <thead>\n",
       "    <tr style=\"text-align: right;\">\n",
       "      <th></th>\n",
       "      <th>Name</th>\n",
       "      <th>Rising</th>\n",
       "    </tr>\n",
       "  </thead>\n",
       "  <tbody>\n",
       "    <tr>\n",
       "      <th>8</th>\n",
       "      <td>shifak N</td>\n",
       "      <td>3140</td>\n",
       "    </tr>\n",
       "    <tr>\n",
       "      <th>18</th>\n",
       "      <td>Narasimhan Y L</td>\n",
       "      <td>2000</td>\n",
       "    </tr>\n",
       "    <tr>\n",
       "      <th>2</th>\n",
       "      <td>Ganesh Ramkumar R</td>\n",
       "      <td>2000</td>\n",
       "    </tr>\n",
       "  </tbody>\n",
       "</table>\n",
       "</div>"
      ],
      "text/plain": [
       "                 Name  Rising\n",
       "8            shifak N    3140\n",
       "18     Narasimhan Y L    2000\n",
       "2   Ganesh Ramkumar R    2000"
      ]
     },
     "execution_count": 73,
     "metadata": {},
     "output_type": "execute_result"
    }
   ],
   "source": [
    "# Raising star of the week (top 3 candidate who performed well in that particular week)\n",
    "\n",
    "Raising_Star = College_Data.sort_values(by=\"Rising\",ascending=False)\n",
    "Raising_Star[[\"Name\",\"Rising\"]].head(3)"
   ]
  },
  {
   "cell_type": "code",
   "execution_count": 74,
   "id": "6e3fce68",
   "metadata": {},
   "outputs": [
    {
     "data": {
      "text/html": [
       "<div>\n",
       "<style scoped>\n",
       "    .dataframe tbody tr th:only-of-type {\n",
       "        vertical-align: middle;\n",
       "    }\n",
       "\n",
       "    .dataframe tbody tr th {\n",
       "        vertical-align: top;\n",
       "    }\n",
       "\n",
       "    .dataframe thead th {\n",
       "        text-align: right;\n",
       "    }\n",
       "</style>\n",
       "<table border=\"1\" class=\"dataframe\">\n",
       "  <thead>\n",
       "    <tr style=\"text-align: right;\">\n",
       "      <th></th>\n",
       "      <th>Name</th>\n",
       "      <th>Previous Geekions</th>\n",
       "    </tr>\n",
       "  </thead>\n",
       "  <tbody>\n",
       "    <tr>\n",
       "      <th>0</th>\n",
       "      <td>A.Dharani</td>\n",
       "      <td>24500</td>\n",
       "    </tr>\n",
       "    <tr>\n",
       "      <th>1</th>\n",
       "      <td>V.JEEVITHA</td>\n",
       "      <td>21740</td>\n",
       "    </tr>\n",
       "    <tr>\n",
       "      <th>2</th>\n",
       "      <td>HEMAVATHI.R</td>\n",
       "      <td>19680</td>\n",
       "    </tr>\n",
       "  </tbody>\n",
       "</table>\n",
       "</div>"
      ],
      "text/plain": [
       "          Name  Previous Geekions\n",
       "0    A.Dharani              24500\n",
       "1  V.JEEVITHA               21740\n",
       "2  HEMAVATHI.R              19680"
      ]
     },
     "execution_count": 74,
     "metadata": {},
     "output_type": "execute_result"
    }
   ],
   "source": [
    "# Shining stars of the week (top 3 candidates who has highest geekions)\n",
    "\n",
    "Shining_stars = College_Data.sort_values(by=\"Previous Geekions\",ascending=False)\n",
    "Shining_stars[[\"Name\",\"Previous Geekions\"]].head(3)"
   ]
  },
  {
   "cell_type": "code",
   "execution_count": 116,
   "id": "e61711c1",
   "metadata": {
    "scrolled": false
   },
   "outputs": [
    {
     "data": {
      "image/png": "[encoded data removed]",
      "text/plain": [
       "<Figure size 432x288 with 1 Axes>"
      ]
     },
     "metadata": {},
     "output_type": "display_data"
    }
   ],
   "source": [
    "# Department wise codekata performence (pie chart)\n",
    "# Pie Chart\n",
    "\n",
    "plt.pie((College_Data.groupby(\"Department\")['CodeKata Score'].sum()) , autopct = \"%.1f%%\" , radius = 1.5 , labels = College_Data[\"Department\"].unique())\n",
    "plt.show()"
   ]
  },
  {
   "cell_type": "code",
   "execution_count": 177,
   "id": "c3ed9a2c",
   "metadata": {},
   "outputs": [
    {
     "data": {
      "image/png": "[encoded data removed]",
      "text/plain": [
       "<Figure size 432x288 with 1 Axes>"
      ]
     },
     "metadata": {
      "needs_background": "light"
     },
     "output_type": "display_data"
    }
   ],
   "source": [
    "# Department wise toppers (horizantal bar graph or any visual representations of your choice)\n",
    "# I Select the toppers based on their CodeKata Score\n",
    "\n",
    "# Electronics_and_Electrical_Engineering\n",
    "Department1 = College_Data[[\"Name\",\"CodeKata Score\",\"Department\"]]\n",
    "Department1 = Department1[Department1[\"Department\"] ==\"Electronics and Electrical Engineering\"]\n",
    "Electronics_Electrical_Engineering = Department1.sort_values(by=\"CodeKata Score\",ascending=False).head(5)\n",
    "\n",
    "# Visulaization\n",
    "plt.barh(Electronics_Electrical_Engineering[\"Name\"],Electronics_Electrical_Engineering[\"CodeKata Score\"])\n",
    "\n",
    "# Defining Title and X and Y Axis\n",
    "plt.xlabel (\"Students\")\n",
    "plt.ylabel (\"Code Kata Score\")\n",
    "plt.title (\"Electronics_Electrical_Engineering Department Toppers\")\n",
    "\n",
    "plt.show()"
   ]
  },
  {
   "cell_type": "code",
   "execution_count": 178,
   "id": "80c30147",
   "metadata": {
    "scrolled": true
   },
   "outputs": [
    {
     "data": {
      "image/png": "[encoded data removed]",
      "text/plain": [
       "<Figure size 432x288 with 1 Axes>"
      ]
     },
     "metadata": {
      "needs_background": "light"
     },
     "output_type": "display_data"
    }
   ],
   "source": [
    "# Electronics_and_Communication_Engineering\n",
    "Department2 = College_Data[[\"Name\",\"CodeKata Score\",\"Department\"]]\n",
    "Department2 = Department2[Department2[\"Department\"] ==\"Electronics and Communication Engineering\"]\n",
    "Electronics_Communication_Engineering = Department2.sort_values(by=\"CodeKata Score\",ascending=False).head(5)\n",
    "\n",
    "# Visulaization\n",
    "plt.barh(Electronics_Communication_Engineering[\"Name\"],Electronics_Communication_Engineering[\"CodeKata Score\"])\n",
    "\n",
    "# Defining Title and X and Y Axis\n",
    "plt.xlabel (\"Students\")\n",
    "plt.ylabel (\"Code Kata Score\")\n",
    "plt.title (\"Electronics and Communication Engineering Toppers\")\n",
    "\n",
    "plt.show()"
   ]
  },
  {
   "cell_type": "code",
   "execution_count": 179,
   "id": "1a30de8d",
   "metadata": {},
   "outputs": [
    {
     "data": {
      "image/png": "[encoded data removed]",
      "text/plain": [
       "<Figure size 432x288 with 1 Axes>"
      ]
     },
     "metadata": {
      "needs_background": "light"
     },
     "output_type": "display_data"
    }
   ],
   "source": [
    "# Computer Science and Engineering\n",
    "Department3 = College_Data[[\"Name\",\"CodeKata Score\",\"Department\"]]\n",
    "Department3 = Department3[Department3[\"Department\"] ==\"Computer Science and Engineering\"]\n",
    "Computer_Science_Engineering = Department3.sort_values(by=\"CodeKata Score\",ascending=False).head(5)\n",
    "\n",
    "# Visulaization\n",
    "plt.barh(Computer_Science_Engineering[\"Name\"],Computer_Science_Engineering[\"CodeKata Score\"])\n",
    "\n",
    "# Defining Title and X and Y Axis\n",
    "plt.xlabel (\"Students\")\n",
    "plt.ylabel (\"Code Kata Score\")\n",
    "plt.title (\"Computer Science and Engineering Toppers\")\n",
    "\n",
    "plt.show()"
   ]
  }
 ],
 "metadata": {
  "kernelspec": {
   "display_name": "Python 3 (ipykernel)",
   "language": "python",
   "name": "python3"
  },
  "language_info": {
   "codemirror_mode": {
    "name": "ipython",
    "version": 3
   },
   "file_extension": ".py",
   "mimetype": "text/x-python",
   "name": "python",
   "nbconvert_exporter": "python",
   "pygments_lexer": "ipython3",
   "version": "3.9.12"
  }
 },
 "nbformat": 4,
 "nbformat_minor": 5
}
