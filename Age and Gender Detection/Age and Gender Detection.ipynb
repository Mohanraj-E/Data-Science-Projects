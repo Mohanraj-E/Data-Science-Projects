{
 "cells": [
  {
   "cell_type": "code",
   "execution_count": 7,
   "id": "6a58dd82",
   "metadata": {},
   "outputs": [
    {
     "name": "stdout",
     "output_type": "stream",
     "text": [
      "Requirement already satisfied: opencv-python in c:\\users\\mohanraj\\anaconda3\\lib\\site-packages (4.6.0.66)\n",
      "Requirement already satisfied: numpy>=1.17.3 in c:\\users\\mohanraj\\anaconda3\\lib\\site-packages (from opencv-python) (1.21.5)\n"
     ]
    }
   ],
   "source": [
    "!pip install opencv-python\n",
    "import numpy as np\n",
    "import cv2"
   ]
  },
  {
   "cell_type": "code",
   "execution_count": 8,
   "id": "c0244193",
   "metadata": {},
   "outputs": [],
   "source": [
    "# Defining the variables of weights and architectures for face, age, and gender detection models\n",
    "FACE_PROTO = r\"C:\\Users\\MOHANRAJ\\Desktop\\Projects\\Machine Learning\\Gender and Age Detection\\deploy.prototxt.txt\"\n",
    "FACE_MODEL = r\"C:\\Users\\MOHANRAJ\\Desktop\\Projects\\Machine Learning\\Gender and Age Detection\\res10_300x300_ssd_iter_140000_fp16.caffemodel\"\n",
    "\n",
    "# The gender model architecture\n",
    "GENDER_MODEL = r\"C:\\Users\\MOHANRAJ\\Desktop\\Projects\\Machine Learning\\Gender and Age Detection\\deploy_gender.prototxt\"\n",
    "# The gender model pre-trained weights\n",
    "GENDER_PROTO = r\"C:\\Users\\MOHANRAJ\\Desktop\\Projects\\Machine Learning\\Gender and Age Detection\\gender_net.caffemodel\"\n",
    "\n",
    "# Each Caffe Model impose the shape of the input image also image preprocessing is required like mean\n",
    "# substraction to eliminate the effect of illunination changes\n",
    "MODEL_MEAN_VALUES = (78.4263377603, 87.7689143744, 114.895847746)\n",
    "\n",
    "# Represent the gender classes\n",
    "GENDER_LIST = ['Male', 'Female']\n",
    "\n",
    "# The model architecture\n",
    "AGE_MODEL = r\"C:\\Users\\MOHANRAJ\\Desktop\\Projects\\Machine Learning\\Gender and Age Detection\\deploy_age.prototxt\"\n",
    "# The model pre-trained weights\n",
    "AGE_PROTO = r\"C:\\Users\\MOHANRAJ\\Desktop\\Projects\\Machine Learning\\Gender and Age Detection\\age_net.caffemodel\"\n",
    "# Represent the 8 age classes of this CNN probability layer\n",
    "AGE_INTERVALS = ['(0, 2)', '(4, 6)', '(8, 12)', '(15, 20)',\n",
    "                 '(25, 32)', '(38, 43)', '(48, 53)', '(60, 100)']"
   ]
  },
  {
   "cell_type": "code",
   "execution_count": 9,
   "id": "e2595be0",
   "metadata": {},
   "outputs": [],
   "source": [
    "#  loading the models\n",
    "\n",
    "# Initialize frame size\n",
    "frame_width = 1280\n",
    "frame_height = 720\n",
    "\n",
    "# load face Caffe model\n",
    "face_net = cv2.dnn.readNetFromCaffe(FACE_PROTO, FACE_MODEL)\n",
    "\n",
    "# Load age prediction model\n",
    "age_net = cv2.dnn.readNetFromCaffe(AGE_MODEL, AGE_PROTO)\n",
    "\n",
    "# Load gender prediction model\n",
    "gender_net = cv2.dnn.readNetFromCaffe(GENDER_MODEL, GENDER_PROTO)"
   ]
  },
  {
   "cell_type": "code",
   "execution_count": 10,
   "id": "4c2f8150",
   "metadata": {},
   "outputs": [],
   "source": [
    "# function to detect faces\n",
    "def get_faces(frame, confidence_threshold=0.5):\n",
    "    # convert the frame into a blob to be ready for NN input\n",
    "    blob = cv2.dnn.blobFromImage(frame, 1.0, (300, 300), (104, 177.0, 123.0))\n",
    "    # set the image as input to the NN\n",
    "    face_net.setInput(blob)\n",
    "    # perform inference and get predictions\n",
    "    output = np.squeeze(face_net.forward())\n",
    "    # initialize the result list\n",
    "    faces = []\n",
    "    # Loop over the faces detected\n",
    "    for i in range(output.shape[0]):\n",
    "        confidence = output[i, 2]\n",
    "        if confidence > confidence_threshold:\n",
    "            box = output[i, 3:7] * \\\n",
    "                np.array([frame.shape[1], frame.shape[0],\n",
    "                         frame.shape[1], frame.shape[0]])\n",
    "            # convert to integers\n",
    "            start_x, start_y, end_x, end_y = box.astype(np.int)\n",
    "            # widen the box a little\n",
    "            start_x, start_y, end_x, end_y = start_x - \\\n",
    "                10, start_y - 10, end_x + 10, end_y + 10\n",
    "            start_x = 0 if start_x < 0 else start_x\n",
    "            start_y = 0 if start_y < 0 else start_y\n",
    "            end_x = 0 if end_x < 0 else end_x\n",
    "            end_y = 0 if end_y < 0 else end_y\n",
    "            # append to our list\n",
    "            faces.append((start_x, start_y, end_x, end_y))\n",
    "    return faces"
   ]
  },
  {
   "cell_type": "code",
   "execution_count": 11,
   "id": "555abb1f",
   "metadata": {},
   "outputs": [],
   "source": [
    "# function for displaying an image\n",
    "def display_img(title, img):\n",
    "    \"\"\"Displays an image on screen and maintains the output until the user presses a key\"\"\"\n",
    "    # Display Image on screen\n",
    "    cv2.imshow(title, img)\n",
    "    # Mantain output until user presses a key\n",
    "    cv2.waitKey(0)\n",
    "    # Destroy windows when user presses a key\n",
    "    cv2.destroyAllWindows()"
   ]
  },
  {
   "cell_type": "code",
   "execution_count": 12,
   "id": "a9c2de53",
   "metadata": {},
   "outputs": [],
   "source": [
    "# function for dynamically resizing an image, we're going to need it to resize the input images when exceeding a certain width\n",
    "def image_resize(image, width = None, height = None, inter = cv2.INTER_AREA):\n",
    "    # initialize the dimensions of the image to be resized and\n",
    "    # grab the image size\n",
    "    dim = None\n",
    "    (h, w) = image.shape[:2]\n",
    "    # if both the width and height are None, then return the\n",
    "    # original image\n",
    "    if width is None and height is None:\n",
    "        return image\n",
    "    # check to see if the width is None\n",
    "    if width is None:\n",
    "        # calculate the ratio of the height and construct the\n",
    "        # dimensions\n",
    "        r = height / float(h)\n",
    "        dim = (int(w * r), height)\n",
    "    # otherwise, the height is None\n",
    "    else:\n",
    "        # calculate the ratio of the width and construct the\n",
    "        # dimensions\n",
    "        r = width / float(w)\n",
    "        dim = (width, int(h * r))\n",
    "    # resize the image\n",
    "    return cv2.resize(image, dim, interpolation = inter)"
   ]
  },
  {
   "cell_type": "code",
   "execution_count": 13,
   "id": "e33c4926",
   "metadata": {},
   "outputs": [],
   "source": [
    "# Define two functions for age and gender detection\n",
    "def get_gender_predictions(face_img):\n",
    "    blob = cv2.dnn.blobFromImage(\n",
    "        image=face_img, scalefactor=1.0, size=(227, 227),\n",
    "        mean=MODEL_MEAN_VALUES, swapRB=False, crop=False\n",
    "    )\n",
    "    gender_net.setInput(blob)\n",
    "    return gender_net.forward()\n",
    "\n",
    "\n",
    "def get_age_predictions(face_img):\n",
    "    blob = cv2.dnn.blobFromImage(\n",
    "        image=face_img, scalefactor=1.0, size=(227, 227),\n",
    "        mean=MODEL_MEAN_VALUES, swapRB=False\n",
    "    )\n",
    "    age_net.setInput(blob)\n",
    "    return age_net.forward()"
   ]
  },
  {
   "cell_type": "code",
   "execution_count": 14,
   "id": "d9fe40e0",
   "metadata": {},
   "outputs": [],
   "source": [
    "# Main function\n",
    "def predict_age_and_gender(input_path: str):\n",
    "    \"\"\"Predict the gender of the faces showing in the image\"\"\"\n",
    "    # Initialize frame size\n",
    "    # frame_width = 1280\n",
    "    # frame_height = 720\n",
    "    # Read Input Image\n",
    "    img = cv2.imread(input_path)\n",
    "    # resize the image, uncomment if you want to resize the image\n",
    "    # img = cv2.resize(img, (frame_width, frame_height))\n",
    "    # Take a copy of the initial image and resize it\n",
    "    frame = img.copy()\n",
    "    if frame.shape[1] > frame_width:\n",
    "        frame = image_resize(frame, width=frame_width)\n",
    "    # predict the faces\n",
    "    faces = get_faces(frame)\n",
    "    # Loop over the faces detected\n",
    "    # for idx, face in enumerate(faces):\n",
    "    for i, (start_x, start_y, end_x, end_y) in enumerate(faces):\n",
    "        face_img = frame[start_y: end_y, start_x: end_x]\n",
    "        age_preds = get_age_predictions(face_img)\n",
    "        gender_preds = get_gender_predictions(face_img)\n",
    "        i = gender_preds[0].argmax()\n",
    "        gender = GENDER_LIST[i]\n",
    "        gender_confidence_score = gender_preds[0][i]\n",
    "        i = age_preds[0].argmax()\n",
    "        age = AGE_INTERVALS[i]\n",
    "        age_confidence_score = age_preds[0][i]\n",
    "        # Draw the box\n",
    "        label = f\"{gender}-{gender_confidence_score*100:.1f}%, {age}-{age_confidence_score*100:.1f}%\"\n",
    "        # label = \"{}-{:.2f}%\".format(gender, gender_confidence_score*100)\n",
    "        print(label)\n",
    "        yPos = start_y - 15\n",
    "        while yPos < 15:\n",
    "            yPos += 15\n",
    "        box_color = (255, 0, 0) if gender == \"Male\" else (147, 20, 255)\n",
    "        cv2.rectangle(frame, (start_x, start_y), (end_x, end_y), box_color, 2)\n",
    "        # Label processed image\n",
    "        font_scale = 0.54\n",
    "        cv2.putText(frame, label, (start_x, yPos),\n",
    "                    cv2.FONT_HERSHEY_SIMPLEX, font_scale, box_color, 2)\n",
    "\n",
    "        # Display processed image\n",
    "    display_img(\"Gender Estimator\", frame)\n",
    "    # uncomment if you want to save the image\n",
    "    cv2.imwrite(\"output.jpg\", frame)\n",
    "    # Cleanup\n",
    "    cv2.destroyAllWindows()"
   ]
  },
  {
   "cell_type": "code",
   "execution_count": 18,
   "id": "c742f360",
   "metadata": {},
   "outputs": [
    {
     "name": "stderr",
     "output_type": "stream",
     "text": [
      "C:\\Users\\MOHANRAJ\\AppData\\Local\\Temp\\ipykernel_15860\\3800234843.py:19: DeprecationWarning: `np.int` is a deprecated alias for the builtin `int`. To silence this warning, use `int` by itself. Doing this will not modify any behavior and is safe. When replacing `np.int`, you may wish to use e.g. `np.int64` or `np.int32` to specify the precision. If you wish to review your current use, check the release note link for additional information.\n",
      "Deprecated in NumPy 1.20; for more details and guidance: https://numpy.org/devdocs/release/1.20.0-notes.html#deprecations\n",
      "  start_x, start_y, end_x, end_y = box.astype(np.int)\n"
     ]
    },
    {
     "name": "stdout",
     "output_type": "stream",
     "text": [
      "Male-100.0%, (25, 32)-50.4%\n",
      "Male-100.0%, (25, 32)-45.8%\n",
      "Female-77.6%, (15, 20)-98.7%\n",
      "Male-100.0%, (8, 12)-52.1%\n"
     ]
    }
   ],
   "source": [
    "if __name__ == \"__main__\":\n",
    "    import sys\n",
    "    input_path = sys.argv[1]\n",
    "    predict_age_and_gender(r\"I:\\Mohan\\Pictures\\Diwali\\IMG_20201114_202934.jpg\")"
   ]
  }
 ],
 "metadata": {
  "kernelspec": {
   "display_name": "Python 3 (ipykernel)",
   "language": "python",
   "name": "python3"
  },
  "language_info": {
   "codemirror_mode": {
    "name": "ipython",
    "version": 3
   },
   "file_extension": ".py",
   "mimetype": "text/x-python",
   "name": "python",
   "nbconvert_exporter": "python",
   "pygments_lexer": "ipython3",
   "version": "3.9.12"
  }
 },
 "nbformat": 4,
 "nbformat_minor": 5
}
